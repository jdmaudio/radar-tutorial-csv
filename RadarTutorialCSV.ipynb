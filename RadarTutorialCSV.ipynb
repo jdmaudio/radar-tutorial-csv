{
 "cells": [
  {
   "cell_type": "code",
   "execution_count": null,
   "metadata": {},
   "outputs": [],
   "source": [
    "# import OS module\n",
    "import os\n",
    "import csv\n",
    "from bs4 import BeautifulSoup\n",
    "\n",
    "# Get the list of all files and directories (change this path to your own)\n",
    "path = \"C:\\\\Users\\\\xx\\\\Documents\\\\RadarTutorialCSV\\\\radartutorial\\\\19.kartei\"\n",
    "\n",
    "# Open the CSV file in write mode\n",
    "with open('table.csv', 'wt+', newline='', encoding='utf-8-sig') as csvfile:\n",
    "    # Create a CSV writer object\n",
    "    writer = csv.writer(csvfile,delimiter=',', dialect='excel')\n",
    "    \n",
    "    # Write the header row\n",
    "    writer.writerow(['File name','Radar name', 'Frequency', 'PRT', 'PRF', 'Pulsewidth', 'Receiving time', 'Dead time', 'Peak Power', 'Average Power', 'Instrumented Range', 'Range Resolution', 'Accuracy', 'Beamwidth', 'Hits per scan', 'Antenna Rotation', 'MTBCF', 'MTTR'])\n",
    "\n",
    "    # dirs=directories\n",
    "    for (root, dirs, file) in os.walk(path):\n",
    "        for f in file:\n",
    "            if 'en.html' in f: # English files only here\n",
    "                print(\"Processing: \" + os.path.join(root, f))\n",
    "                with open(os.path.join(root, f), 'r', encoding='utf-8-sig') as myFile:\n",
    "                    html = myFile.read()\n",
    "                    \n",
    "                    # Parse the HTML using BeautifulSoup\n",
    "                    soup = BeautifulSoup(html, 'html.parser')\n",
    "\n",
    "                    # Find the table in the HTML\n",
    "                    table = soup.find('table',  { 'class' : 'ttd' })\n",
    "\n",
    "                    # Find radar name\n",
    "                    name = soup.find('h4',  { 'class' : 'hh_yes' })\n",
    "\n",
    "                    # Create a list to store the table data\n",
    "                    data = []\n",
    "                \n",
    "                    if table:\n",
    "                        # Iterate over the rows in the table\n",
    "                        for row in table.find_all('tr'):\n",
    "                            \n",
    "                            # Extract the cells in each row\n",
    "                            cells = row.find_all('td', {'class' : ''})\n",
    "\n",
    "                            if cells:\n",
    "                                x = cells[0].text.strip()\n",
    "                                data.append(x)\n",
    "\n",
    "                            # Store the cells in the data list\n",
    "                            #data.append([cell.text.strip() for cell in cells])\n",
    "                                \n",
    "                        # Write the cells to the CSV file\n",
    "                        if data:\n",
    "                            data.insert(0, f)\n",
    "                            if name:\n",
    "                                data.insert(1, name.text)\n",
    "                            writer.writerow(data)"
   ]
  }
 ],
 "metadata": {
  "kernelspec": {
   "display_name": "Python 3",
   "language": "python",
   "name": "python3"
  },
  "language_info": {
   "codemirror_mode": {
    "name": "ipython",
    "version": 3
   },
   "file_extension": ".py",
   "mimetype": "text/x-python",
   "name": "python",
   "nbconvert_exporter": "python",
   "pygments_lexer": "ipython3",
   "version": "3.10.1"
  },
  "orig_nbformat": 4,
  "vscode": {
   "interpreter": {
    "hash": "6c10ba72ed2e4faa5258c85f87e941b227c01d94d00d176d361b66eadb75a7b3"
   }
  }
 },
 "nbformat": 4,
 "nbformat_minor": 2
}
